{
 "cells": [
  {
   "cell_type": "markdown",
   "metadata": {},
   "source": [
    "# Database Admin 101 - Lab\n",
    "\n",
    "## Introduction \n",
    "\n",
    "In this lab, you'll go through the process of designing and creating a database. From there, you'll begin to populate this table with mock data provided to you.\n",
    "\n",
    "## Objectives\n",
    "\n",
    "You will be able to:\n",
    "\n",
    "* Use knowledge of the structure of databases to create a database and populate it"
   ]
  },
  {
   "cell_type": "markdown",
   "metadata": {},
   "source": [
    "## The Scenario\n",
    "\n",
    "You are looking to design a database for a school that will house various information from student grades to contact information, class roster lists and attendance. First, think of how you would design such a database. What tables would you include? What columns would each table have? What would be the primary means to join said tables?"
   ]
  },
  {
   "cell_type": "markdown",
   "metadata": {},
   "source": [
    "## Creating the Database\n",
    "\n",
    "Now that you've put a little thought into how you might design your database, it's time to go ahead and create it! Start by import the necessary packages. Then, create a database called **school.sqlite**."
   ]
  },
  {
   "cell_type": "code",
   "execution_count": 18,
   "metadata": {},
   "outputs": [
    {
     "name": "stdout",
     "output_type": "stream",
     "text": [
      " Volume in drive C is OS\n",
      " Volume Serial Number is A28A-C3E7\n",
      "\n",
      " Directory of c:\\Users\\mkiganane\\Documents\\moringa_school\\Phase_2\\data_admin_101\\dsc-database-admin-101-lab\n",
      "\n",
      "24/02/2025  08:15    <DIR>          .\n",
      "24/02/2025  08:15    <DIR>          ..\n",
      "24/02/2025  07:08    <DIR>          .github\n",
      "24/02/2025  07:08                69 .gitignore\n",
      "24/02/2025  07:08                95 .learn\n",
      "24/02/2025  07:08             1,213 contact_list.pickle\n",
      "24/02/2025  07:08             1,849 CONTRIBUTING.md\n",
      "24/02/2025  07:08    <DIR>          env\n",
      "24/02/2025  08:21            10,808 index.ipynb\n",
      "24/02/2025  07:08             1,371 LICENSE.md\n",
      "24/02/2025  07:08             3,705 README.md\n",
      "24/02/2025  08:15            12,288 school.sqlite.db\n",
      "               8 File(s)         31,398 bytes\n",
      "               4 Dir(s)  339,991,691,264 bytes free\n"
     ]
    }
   ],
   "source": [
    "ls"
   ]
  },
  {
   "cell_type": "code",
   "execution_count": 19,
   "metadata": {},
   "outputs": [],
   "source": [
    "# Import necessary packages\n",
    "import pandas as pd\n",
    "import sqlite3"
   ]
  },
  {
   "cell_type": "code",
   "execution_count": 20,
   "metadata": {},
   "outputs": [],
   "source": [
    "# Create the database school.sqlite \n",
    "conn = sqlite3.connect(\"school.sqlite.db\")\n",
    "cur = conn.cursor()"
   ]
  },
  {
   "cell_type": "markdown",
   "metadata": {},
   "source": [
    "## Create a Table for Contact Information\n",
    "\n",
    "Create a table called contactInfo to house contact information for both students and staff. Be sure to include columns for first name, last name, role (student/staff), telephone number, street, city, state, and zipcode. Be sure to also create a primary key for the table. "
   ]
  },
  {
   "cell_type": "code",
   "execution_count": 21,
   "metadata": {},
   "outputs": [],
   "source": [
    "# Your code here\n",
    "cur.execute('''\n",
    "    CREATE TABLE IF NOT EXISTS contact_info (\n",
    "        id INTEGER PRIMARY KEY AUTOINCREMENT,\n",
    "        first_name TEXT NOT NULL,\n",
    "        last_name TEXT NOT NULL,\n",
    "        role TEXT CHECK(role IN ('student', 'staff')) NOT NULL,\n",
    "        telephone_number TEXT NOT NULL,\n",
    "        street TEXT NOT NULL,\n",
    "        city TEXT NOT NULL,\n",
    "        state TEXT NOT NULL,\n",
    "        zipcode TEXT NOT NULL\n",
    "    )\n",
    "''')\n",
    "\n",
    "# Commit the changes to the database\n",
    "conn.commit()"
   ]
  },
  {
   "cell_type": "markdown",
   "metadata": {},
   "source": [
    "## Populate the Table\n",
    "\n",
    "Below, code is provided for you in order to load a list of dictionaries. Briefly examine the list. Each dictionary in the list will serve as an entry for your contact info table. Once you've briefly investigated the structure of this data, write a for loop to iterate through the list and create an entry in your table for each person's contact info."
   ]
  },
  {
   "cell_type": "code",
   "execution_count": 22,
   "metadata": {},
   "outputs": [],
   "source": [
    "# Load the list of dictionaries; just run this cell\n",
    "import pickle\n",
    "\n",
    "with open('contact_list.pickle', 'rb') as f:\n",
    "    contacts = pickle.load(f)"
   ]
  },
  {
   "cell_type": "code",
   "execution_count": 23,
   "metadata": {},
   "outputs": [
    {
     "name": "stdout",
     "output_type": "stream",
     "text": [
      "[{'firstName': 'Christine', 'lastName': 'Holden', 'role': 'staff', 'telephone ': 2035687697, 'street': '1672 Whitman Court', 'city': 'Stamford', 'state': 'CT', 'zipcode ': '06995'}, {'firstName': 'Christopher', 'lastName': 'Warren', 'role': 'student', 'telephone ': 2175150957, 'street': '1935 University Hill Road', 'city': 'Champaign', 'state': 'IL', 'zipcode ': '61938'}, {'firstName': 'Linda', 'lastName': 'Jacobson', 'role': 'staff', 'telephone ': 4049446441, 'street': '479 Musgrave Street', 'city': 'Atlanta', 'state': 'GA', 'zipcode ': '30303'}]\n"
     ]
    }
   ],
   "source": [
    "print(contacts[:3])  # Print the first 3 entries to check structure"
   ]
  },
  {
   "cell_type": "code",
   "execution_count": 37,
   "metadata": {},
   "outputs": [],
   "source": [
    "# Iterate over the contact list and populate the contactInfo table here\n",
    "for contact in contacts:\n",
    "    cur.execute('''\n",
    "        INSERT INTO contact_info (first_name, last_name, role, telephone_number, street, city, state, zipcode)\n",
    "        VALUES (?, ?, ?, ?, ?, ?, ?, ?)\n",
    "    ''', (\n",
    "        contact['firstName'],  # Fix capitalization\n",
    "        contact['lastName'],   # Fix capitalization\n",
    "        contact['role'],\n",
    "        str(contact['telephone ']).strip(),  # Fix key name & ensure string format\n",
    "        contact['street'],\n",
    "        contact['city'],\n",
    "        contact['state'],\n",
    "        contact['zipcode '].strip()  # Fix key name & strip whitespace\n",
    "    ))\n",
    "\n",
    "# Commit changes to save the data\n",
    "conn.commit()"
   ]
  },
  {
   "cell_type": "markdown",
   "metadata": {},
   "source": [
    "**Query the Table to Ensure it is populated**"
   ]
  },
  {
   "cell_type": "code",
   "execution_count": 38,
   "metadata": {},
   "outputs": [
    {
     "name": "stdout",
     "output_type": "stream",
     "text": [
      "(None, 'Christine', 'Holden', 'staff', 2035687697, '1672 Whitman Court', 'Stamford', 'CT', 6995)\n",
      "(None, 'Christopher', 'Warren', 'student', 2175150957, '1935 University Hill Road', 'Champaign', 'IL', 61938)\n",
      "(None, 'Linda', 'Jacobson', 'staff', 4049446441, '479 Musgrave Street', 'Atlanta', 'GA', 30303)\n",
      "(None, 'Andrew', 'Stepp', 'student', 7866419252, '2981 Lamberts Branch Road', 'Hialeah', 'Fl', 33012)\n",
      "(None, 'Jane', 'Evans', 'student', 3259909290, '1461 Briarhill Lane', 'Abilene', 'TX', 79602)\n",
      "(None, 'Jane', 'Evans', 'student', 3259909290, '1461 Briarhill Lane', 'Abilene', 'TX', 79602)\n",
      "(None, 'Mary', 'Raines', 'student', 9075772295, '3975 Jerry Toth Drive', 'Ninilchik', 'AK', 99639)\n",
      "(None, 'Ed', 'Lyman', 'student', 5179695576, '3478 Be Sreet', 'Lansing', 'MI', 48933)\n",
      "(None, 'Christine', 'Holden', 'staff', 2035687697, '1672 Whitman Court', 'Stamford', 'CT', 6995)\n",
      "(None, 'Christopher', 'Warren', 'student', 2175150957, '1935 University Hill Road', 'Champaign', 'IL', 61938)\n"
     ]
    }
   ],
   "source": [
    "# Your code here \n",
    "# Fetch and display the first 10 rows from contact_info\n",
    "cur.execute(\"SELECT * FROM contact_info LIMIT 10\")\n",
    "rows = cur.fetchall()\n",
    "\n",
    "# Print the retrieved rows\n",
    "for row in rows:\n",
    "    print(row)\n"
   ]
  },
  {
   "cell_type": "markdown",
   "metadata": {},
   "source": [
    "## Commit Your Changes to the Database\n",
    "\n",
    "Persist your changes by committing them to the database."
   ]
  },
  {
   "cell_type": "code",
   "execution_count": 26,
   "metadata": {},
   "outputs": [],
   "source": [
    "# Your code here\n",
    "conn.commit()"
   ]
  },
  {
   "cell_type": "markdown",
   "metadata": {},
   "source": [
    "## Create a Table for Student Grades\n",
    "\n",
    "Create a new table in the database called \"grades\". In the table, include the following fields: userId, courseId, grade.\n",
    "\n",
    "** This problem is a bit more tricky and will require a dual key. (A nuance you have yet to see.)\n",
    "Here's how to do that:\n",
    "\n",
    "```SQL\n",
    "CREATE TABLE table_name(\n",
    "   column_1 INTEGER NOT NULL,\n",
    "   column_2 INTEGER NOT NULL,\n",
    "   ...\n",
    "   PRIMARY KEY(column_1,column_2,...)\n",
    ");\n",
    "```"
   ]
  },
  {
   "cell_type": "code",
   "execution_count": 34,
   "metadata": {},
   "outputs": [],
   "source": [
    "# Create the grades table\n",
    "cur.execute('''\n",
    "    CREATE TABLE IF NOT EXISTS grades (\n",
    "        userId INTEGER NOT NULL,\n",
    "        courseId INTEGER NOT NULL,\n",
    "        grade TEXT NOT NULL,\n",
    "        PRIMARY KEY (userId, courseId)\n",
    "    )\n",
    "''')\n",
    "\n",
    "# Commit the changes to the database\n",
    "conn.commit()\n"
   ]
  },
  {
   "cell_type": "markdown",
   "metadata": {},
   "source": [
    "## Remove Duplicate Entries\n",
    "\n",
    "An analyst just realized that there is a duplicate entry in the contactInfo table! Find and remove it."
   ]
  },
  {
   "cell_type": "code",
   "execution_count": 40,
   "metadata": {},
   "outputs": [
    {
     "name": "stdout",
     "output_type": "stream",
     "text": [
      "('Andrew', 'Stepp', 'student', 7866419252, '2981 Lamberts Branch Road', 'Hialeah', 'Fl', 33012, 4)\n",
      "('Christine', 'Holden', 'staff', 2035687697, '1672 Whitman Court', 'Stamford', 'CT', 6995, 4)\n",
      "('Christopher', 'Warren', 'student', 2175150957, '1935 University Hill Road', 'Champaign', 'IL', 61938, 4)\n",
      "('Ed', 'Lyman', 'student', 5179695576, '3478 Be Sreet', 'Lansing', 'MI', 48933, 4)\n",
      "('Jane', 'Evans', 'student', 3259909290, '1461 Briarhill Lane', 'Abilene', 'TX', 79602, 8)\n",
      "('Linda', 'Jacobson', 'staff', 4049446441, '479 Musgrave Street', 'Atlanta', 'GA', 30303, 4)\n",
      "('Mary', 'Raines', 'student', 9075772295, '3975 Jerry Toth Drive', 'Ninilchik', 'AK', 99639, 4)\n"
     ]
    }
   ],
   "source": [
    "# Find the duplicate entry\n",
    "cur.execute('''\n",
    "    SELECT first_name, last_name, role, telephone_number, street, city, state, zipcode, COUNT(*)\n",
    "    FROM contact_info\n",
    "    GROUP BY first_name, last_name, role, telephone_number, street, city, state, zipcode\n",
    "    HAVING COUNT(*) > 1\n",
    "''')\n",
    "\n",
    "duplicates = cur.fetchall()\n",
    "\n",
    "for row in duplicates:\n",
    "    print(row)  # Print duplicate entries\n"
   ]
  },
  {
   "cell_type": "code",
   "execution_count": 41,
   "metadata": {},
   "outputs": [],
   "source": [
    "# Delete the duplicate entry\n",
    "cur.execute('''\n",
    "    DELETE FROM contact_info\n",
    "    WHERE ROWID NOT IN (\n",
    "        SELECT MIN(ROWID)\n",
    "        FROM contact_info\n",
    "        GROUP BY first_name, last_name, role, telephone_number, street, city, state, zipcode\n",
    "    )\n",
    "''')\n",
    "\n",
    "conn.commit()"
   ]
  },
  {
   "cell_type": "code",
   "execution_count": 43,
   "metadata": {},
   "outputs": [
    {
     "name": "stdout",
     "output_type": "stream",
     "text": [
      "[]\n"
     ]
    }
   ],
   "source": [
    "# Check that the duplicate entry was removed\n",
    "cur.execute('''\n",
    "    SELECT first_name, last_name, role, telephone_number, street, city, state, zipcode, COUNT(*)\n",
    "    FROM contact_info\n",
    "    GROUP BY first_name, last_name, role, telephone_number, street, city, state, zipcode\n",
    "    HAVING COUNT(*) > 1\n",
    "''')\n",
    "\n",
    "print(cur.fetchall())  \n"
   ]
  },
  {
   "cell_type": "markdown",
   "metadata": {},
   "source": [
    "## Updating an Address\n",
    "\n",
    "Ed Lyman just moved to `2910 Simpson Avenue York, PA 17403`. Update his address accordingly."
   ]
  },
  {
   "cell_type": "code",
   "execution_count": 44,
   "metadata": {},
   "outputs": [],
   "source": [
    "# Update Ed's address\n",
    "cur.execute('''\n",
    "    UPDATE contact_info\n",
    "    SET street = ?, city = ?, state = ?, zipcode = ?\n",
    "    WHERE first_name = ? AND last_name = ?\n",
    "''', ('2910 Simpson Avenue', 'York', 'PA', '17403', 'Ed', 'Lyman'))\n",
    "\n",
    "conn.commit()"
   ]
  },
  {
   "cell_type": "code",
   "execution_count": 45,
   "metadata": {},
   "outputs": [
    {
     "name": "stdout",
     "output_type": "stream",
     "text": [
      "[(None, 'Ed', 'Lyman', 'student', 5179695576, '2910 Simpson Avenue', 'York', 'PA', 17403)]\n"
     ]
    }
   ],
   "source": [
    "# Query the database to ensure the change was made\n",
    "cur.execute('''\n",
    "    SELECT * FROM contact_info\n",
    "    WHERE first_name = 'Ed' AND last_name = 'Lyman'\n",
    "''')\n",
    "\n",
    "print(cur.fetchall())  "
   ]
  },
  {
   "cell_type": "markdown",
   "metadata": {},
   "source": [
    "## Commit Your Changes to the Database\n",
    "\n",
    "Once again, persist your changes by committing them to the database."
   ]
  },
  {
   "cell_type": "code",
   "execution_count": 46,
   "metadata": {},
   "outputs": [],
   "source": [
    "# Your code here\n",
    "conn.commit()"
   ]
  },
  {
   "cell_type": "markdown",
   "metadata": {},
   "source": [
    "## Summary\n",
    "\n",
    "While there's certainly more to do with setting up and managing this database, you got a taste for creating, populating, and maintaining databases! Feel free to continue fleshing out this exercise for more practice. "
   ]
  }
 ],
 "metadata": {
  "kernelspec": {
   "display_name": "base",
   "language": "python",
   "name": "python3"
  },
  "language_info": {
   "codemirror_mode": {
    "name": "ipython",
    "version": 3
   },
   "file_extension": ".py",
   "mimetype": "text/x-python",
   "name": "python",
   "nbconvert_exporter": "python",
   "pygments_lexer": "ipython3",
   "version": "3.12.7"
  },
  "toc": {
   "base_numbering": 1,
   "nav_menu": {},
   "number_sections": true,
   "sideBar": true,
   "skip_h1_title": false,
   "title_cell": "Table of Contents",
   "title_sidebar": "Contents",
   "toc_cell": false,
   "toc_position": {},
   "toc_section_display": true,
   "toc_window_display": false
  }
 },
 "nbformat": 4,
 "nbformat_minor": 2
}
